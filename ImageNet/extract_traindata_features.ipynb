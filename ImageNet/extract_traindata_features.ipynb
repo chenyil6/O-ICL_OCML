{
 "cells": [
  {
   "cell_type": "code",
   "execution_count": 8,
   "metadata": {},
   "outputs": [],
   "source": [
    "from imagenet_dataset import ImageNetDataset\n",
    "from transformers import CLIPModel, AutoProcessor, AutoTokenizer\n",
    "\n",
    "# 加载 CLIP 模型和处理器\n",
    "embedding_model = CLIPModel.from_pretrained(\n",
    "    '/home/chy63/.cache/huggingface/hub/models--clip-vit-base-patch32', \n",
    "    local_files_only=True\n",
    ")\n",
    "\n",
    "image_processor = AutoProcessor.from_pretrained(\n",
    "    '/home/chy63/.cache/huggingface/hub/models--clip-vit-base-patch32', \n",
    "    local_files_only=True\n",
    ")\n",
    "\n",
    "text_tokenizer = AutoTokenizer.from_pretrained(\n",
    "    '/home/chy63/.cache/huggingface/hub/models--clip-vit-base-patch32', \n",
    "    local_files_only=True\n",
    ")"
   ]
  },
  {
   "cell_type": "markdown",
   "metadata": {},
   "source": [
    "初始化 ImageNet Train Dataset"
   ]
  },
  {
   "cell_type": "code",
   "execution_count": 9,
   "metadata": {},
   "outputs": [
    {
     "name": "stdout",
     "output_type": "stream",
     "text": [
      "Loaded class indices from ./imagenet_class_indices.pkl\n"
     ]
    }
   ],
   "source": [
    "import os\n",
    "\n",
    "# 初始化 ImageNetDataset\n",
    "train_dataset = ImageNetDataset(\n",
    "    root=os.path.join(\"/data/hyh/imagenet/data\", \"train\"),\n",
    "    index_file=\"./imagenet_class_indices.pkl\"  # 指定索引文件路径\n",
    ")"
   ]
  },
  {
   "cell_type": "code",
   "execution_count": 10,
   "metadata": {},
   "outputs": [],
   "source": [
    "import torch"
   ]
  },
  {
   "cell_type": "markdown",
   "metadata": {},
   "source": [
    "定义 抽取特征 的函数"
   ]
  },
  {
   "cell_type": "code",
   "execution_count": 11,
   "metadata": {},
   "outputs": [],
   "source": [
    "def get_embedding(image):\n",
    "    inputs = image_processor(images=image, return_tensors=\"pt\")\n",
    "    with torch.no_grad():\n",
    "        image_features = embedding_model.get_image_features(**inputs)\n",
    "    return image_features"
   ]
  },
  {
   "cell_type": "code",
   "execution_count": 12,
   "metadata": {},
   "outputs": [],
   "source": [
    "def get_text_embedding(label):\n",
    "    inputs = text_tokenizer(text=label, padding=True,return_tensors=\"pt\")\n",
    "    with torch.no_grad():\n",
    "        text_features = embedding_model.get_text_features(**inputs)\n",
    "    return text_features"
   ]
  },
  {
   "cell_type": "markdown",
   "metadata": {},
   "source": [
    "存储会用到的训练集样本的特征"
   ]
  },
  {
   "cell_type": "code",
   "execution_count": 13,
   "metadata": {},
   "outputs": [],
   "source": [
    "features_data = {}"
   ]
  },
  {
   "cell_type": "markdown",
   "metadata": {},
   "source": [
    "定义数据处理和预处理函数"
   ]
  },
  {
   "cell_type": "code",
   "execution_count": 17,
   "metadata": {},
   "outputs": [],
   "source": [
    "def preprocess_train(sample):\n",
    "    idx = sample[\"id\"]\n",
    "    image = sample[\"image\"]\n",
    "    label = sample[\"class_name\"]\n",
    "\n",
    "    # 获取图像特征\n",
    "    image_embed = get_embedding(image).squeeze().cpu()\n",
    "\n",
    "    # 获取标签特征\n",
    "    label_embed = get_text_embedding(label).squeeze().cpu()\n",
    "\n",
    "    # 计算质量\n",
    "    quality = torch.cosine_similarity(image_embed.unsqueeze(0), label_embed.unsqueeze(0), dim=1).item()\n",
    "\n",
    "    features_data[idx] = [image_embed, quality]"
   ]
  },
  {
   "cell_type": "markdown",
   "metadata": {},
   "source": [
    "构建support set 和 stream data,每一类取前150张"
   ]
  },
  {
   "cell_type": "code",
   "execution_count": 18,
   "metadata": {},
   "outputs": [
    {
     "name": "stdout",
     "output_type": "stream",
     "text": [
      "the len of use_train_data(support set + data stream) is 150000\n"
     ]
    }
   ],
   "source": [
    "use_train_data = []\n",
    "M = 10000\n",
    "\n",
    "for class_id in range(1000):\n",
    "    data_list = train_dataset.get_data_list_by_class(class_id=class_id)\n",
    "    use_train_data.extend(data_list)  \n",
    "\n",
    "print(f\"the len of use_train_data(support set + data stream) is {len(use_train_data)}\")"
   ]
  },
  {
   "cell_type": "markdown",
   "metadata": {},
   "source": [
    "预处理"
   ]
  },
  {
   "cell_type": "code",
   "execution_count": 3,
   "metadata": {},
   "outputs": [
    {
     "ename": "NameError",
     "evalue": "name 'use_train_data' is not defined",
     "output_type": "error",
     "traceback": [
      "\u001b[0;31m---------------------------------------------------------------------------\u001b[0m",
      "\u001b[0;31mNameError\u001b[0m                                 Traceback (most recent call last)",
      "Cell \u001b[0;32mIn[3], line 2\u001b[0m\n\u001b[1;32m      1\u001b[0m \u001b[38;5;66;03m# 预处理支持集\u001b[39;00m\n\u001b[0;32m----> 2\u001b[0m \u001b[38;5;28;01mwhile\u001b[39;00m \u001b[43muse_train_data\u001b[49m:\n\u001b[1;32m      3\u001b[0m     sample \u001b[38;5;241m=\u001b[39m use_train_data\u001b[38;5;241m.\u001b[39mpop(\u001b[38;5;241m0\u001b[39m)\n\u001b[1;32m      4\u001b[0m     preprocess_train(sample)\n",
      "\u001b[0;31mNameError\u001b[0m: name 'use_train_data' is not defined"
     ]
    }
   ],
   "source": [
    "# 预处理支持集\n",
    "while use_train_data:\n",
    "    sample = use_train_data.pop(0)\n",
    "    preprocess_train(sample)"
   ]
  },
  {
   "cell_type": "markdown",
   "metadata": {},
   "source": [
    "将特征保存到pkl文件"
   ]
  },
  {
   "cell_type": "code",
   "execution_count": 20,
   "metadata": {},
   "outputs": [],
   "source": [
    "import pickle"
   ]
  },
  {
   "cell_type": "code",
   "execution_count": 21,
   "metadata": {},
   "outputs": [],
   "source": [
    "with open('./train_idx2embed_quality.pkl', 'wb') as f:\n",
    "    pickle.dump(features_data, f)"
   ]
  },
  {
   "cell_type": "markdown",
   "metadata": {},
   "source": [
    "初始化 ImageNet Val Dataset"
   ]
  },
  {
   "cell_type": "code",
   "execution_count": null,
   "metadata": {},
   "outputs": [],
   "source": [
    "test_dataset = ImageNetDataset(os.path.join(\"/data/hyh/imagenet/data\", \"val\"))"
   ]
  },
  {
   "cell_type": "markdown",
   "metadata": {},
   "source": [
    "定义数据处理和预处理函数"
   ]
  },
  {
   "cell_type": "code",
   "execution_count": null,
   "metadata": {},
   "outputs": [],
   "source": [
    "features_data_val = {}"
   ]
  },
  {
   "cell_type": "markdown",
   "metadata": {},
   "source": [
    "def preprocess_val(sample):\n",
    "    idx = sample[\"id\"]\n",
    "    image = sample[\"image\"]\n",
    "    label = sample[\"class_name\"]\n",
    "    image_embed = get_embedding(image).squeeze().cpu()\n",
    "    features_data_val[idx] = [image_embed]"
   ]
  },
  {
   "cell_type": "markdown",
   "metadata": {},
   "source": [
    "预处理训练集"
   ]
  },
  {
   "cell_type": "code",
   "execution_count": null,
   "metadata": {},
   "outputs": [],
   "source": [
    "for data in test_dataset:\n",
    "    preprocess_val(data)"
   ]
  },
  {
   "cell_type": "markdown",
   "metadata": {},
   "source": [
    "将特征保存到pkl文件"
   ]
  },
  {
   "cell_type": "code",
   "execution_count": null,
   "metadata": {},
   "outputs": [],
   "source": [
    "with open('./val_idx2embed_quality.pkl', 'wb') as f:\n",
    "    pickle.dump(features_data, f)"
   ]
  }
 ],
 "metadata": {
  "kernelspec": {
   "display_name": "openflamingo",
   "language": "python",
   "name": "python3"
  },
  "language_info": {
   "codemirror_mode": {
    "name": "ipython",
    "version": 3
   },
   "file_extension": ".py",
   "mimetype": "text/x-python",
   "name": "python",
   "nbconvert_exporter": "python",
   "pygments_lexer": "ipython3",
   "version": "3.9.19"
  }
 },
 "nbformat": 4,
 "nbformat_minor": 2
}
